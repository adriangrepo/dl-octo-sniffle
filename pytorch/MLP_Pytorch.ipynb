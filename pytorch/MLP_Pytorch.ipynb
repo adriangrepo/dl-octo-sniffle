{
 "cells": [
  {
   "cell_type": "markdown",
   "metadata": {
    "id": "J3VsmcZU4O8I"
   },
   "source": [
    "# Multi-layer Perceptron (MLP)\n",
    "\n",
    "Implementation of Rosenblatt's Multi-layer Peceptron in Pytorch\n",
    "\n"
   ]
  },
  {
   "cell_type": "code",
   "execution_count": 1,
   "metadata": {
    "id": "CHadwpvmREvE"
   },
   "outputs": [],
   "source": [
    "import copy\n",
    "import random\n",
    "import time\n",
    "\n",
    "import matplotlib.pyplot as plt\n",
    "import numpy as np\n",
    "from thop import profile\n",
    "from sklearn import metrics\n",
    "\n",
    "import torch\n",
    "import torch.nn as nn\n",
    "import torch.nn.functional as F\n",
    "from torch.utils.data import DataLoader\n",
    "from torch.utils.data import random_split\n",
    "import torch.optim as optim\n",
    "import torchvision.datasets as datasets\n",
    "from torchvision import transforms"
   ]
  },
  {
   "cell_type": "code",
   "execution_count": 2,
   "metadata": {},
   "outputs": [],
   "source": [
    "GPU_ID=0\n",
    "device = torch.device(f\"cuda:{GPU_ID}\" if torch.cuda.is_available() else \"cpu\")\n",
    "torch.cuda.empty_cache()"
   ]
  },
  {
   "cell_type": "code",
   "execution_count": 3,
   "metadata": {},
   "outputs": [],
   "source": [
    "#fixed parameters\n",
    "IMAGE_SIZE = 28  #MNIST image size\n",
    "OUT_CLASSES = 10 #MNIST has 10 classes\n",
    "INPUT_DIM = IMAGE_SIZE*IMAGE_SIZE\n",
    "#train paparms\n",
    "EPOCHS = 10\n",
    "BATCH_SIZE = 64\n",
    "#Misc. params\n",
    "SEED = 42\n",
    "DATA_DIR = 'data'"
   ]
  },
  {
   "cell_type": "code",
   "execution_count": 4,
   "metadata": {},
   "outputs": [],
   "source": [
    "random.seed(SEED)\n",
    "np.random.seed(SEED)\n",
    "torch.manual_seed(SEED)\n",
    "torch.cuda.manual_seed(SEED)\n",
    "torch.backends.cudnn.deterministic = True"
   ]
  },
  {
   "cell_type": "code",
   "execution_count": 5,
   "metadata": {
    "id": "GPvVD4VLREva"
   },
   "outputs": [],
   "source": [
    "def generate_data():\n",
    "    train_data = datasets.MNIST(root=DATA_DIR, train=True, \n",
    "                                download=True, transform=transforms.ToTensor())\n",
    "    test_data = datasets.MNIST(root=DATA_DIR, train=False, \n",
    "                               download=True, transform=transforms.ToTensor())\n",
    "    return train_data, test_data"
   ]
  },
  {
   "cell_type": "code",
   "execution_count": 6,
   "metadata": {},
   "outputs": [],
   "source": [
    "train_data, test_data = generate_data()"
   ]
  },
  {
   "cell_type": "code",
   "execution_count": 7,
   "metadata": {
    "colab": {
     "base_uri": "https://localhost:8080/",
     "height": 248
    },
    "id": "sxEwZKjWROlm",
    "outputId": "1e4fbc62-6c01-496b-ab98-cf04f2b7a4e4"
   },
   "outputs": [
    {
     "data": {
      "text/plain": [
       "<matplotlib.image.AxesImage at 0x7f00595962d0>"
      ]
     },
     "execution_count": 7,
     "metadata": {},
     "output_type": "execute_result"
    },
    {
     "data": {
      "image/png": "[encoded data removed]",
      "text/plain": [
       "<Figure size 640x480 with 1 Axes>"
      ]
     },
     "metadata": {},
     "output_type": "display_data"
    }
   ],
   "source": [
    "im = train_data[1][0]\n",
    "plt.imshow(im.squeeze(0), cmap='gray')"
   ]
  },
  {
   "cell_type": "code",
   "execution_count": 8,
   "metadata": {
    "id": "2QI6JckYREve"
   },
   "outputs": [],
   "source": [
    "#could experiment with different train/validation ratios\n",
    "TRAIN_VAL_RATIO = 0.9\n",
    "\n",
    "n_train = int(len(train_data) * TRAIN_VAL_RATIO)\n",
    "n_valid = len(train_data) - n_train"
   ]
  },
  {
   "cell_type": "code",
   "execution_count": 9,
   "metadata": {
    "id": "6yVJvPZ-RVvI"
   },
   "outputs": [],
   "source": [
    "train_data, valid_data = random_split(train_data, [n_train, n_valid])"
   ]
  },
  {
   "cell_type": "code",
   "execution_count": 10,
   "metadata": {
    "id": "M5LZxzXGcsNk"
   },
   "outputs": [],
   "source": [
    "valid_data = copy.deepcopy(valid_data)"
   ]
  },
  {
   "cell_type": "code",
   "execution_count": 11,
   "metadata": {
    "id": "sGdKSORpREvr"
   },
   "outputs": [],
   "source": [
    "train_iterator = DataLoader(train_data, shuffle=True, batch_size=BATCH_SIZE)\n",
    "valid_iterator = DataLoader(valid_data, batch_size=BATCH_SIZE)\n",
    "test_iterator = DataLoader(test_data, batch_size=BATCH_SIZE)"
   ]
  },
  {
   "cell_type": "markdown",
   "metadata": {
    "id": "3Ew0aobVREv0"
   },
   "source": [
    "Model size analysis"
   ]
  },
  {
   "cell_type": "code",
   "execution_count": 12,
   "metadata": {},
   "outputs": [],
   "source": [
    "def count_parameters(net):\n",
    "    total_params = sum(p.numel() for p in net.parameters() if p.requires_grad)\n",
    "    return total_params"
   ]
  },
  {
   "cell_type": "code",
   "execution_count": 13,
   "metadata": {},
   "outputs": [],
   "source": [
    "def get_net_device(net):\n",
    "    #after mcunet\n",
    "    return net.parameters().__next__().device"
   ]
  },
  {
   "cell_type": "markdown",
   "metadata": {},
   "source": [
    "[MACs are multiply-accumulate operations](https://openaccess.thecvf.com/content/CVPR2022W/NAS/papers/Liu_Network_Amplification_With_Efficient_MACs_Allocation_CVPRW_2022_paper.pdf)\n"
   ]
  },
  {
   "cell_type": "code",
   "execution_count": 14,
   "metadata": {
    "id": "gik6Q5ZB4O9q"
   },
   "outputs": [],
   "source": [
    "def count_net_flops(model, data_shape):\n",
    "    #after mcunet\n",
    "    model = copy.deepcopy(model)\n",
    "    total_macs, _ = profile(\n",
    "        model,\n",
    "        inputs=(torch.randn(*data_shape).to(get_net_device(model)),),\n",
    "        verbose=False,\n",
    "    )\n",
    "    del model\n",
    "    return total_macs"
   ]
  },
  {
   "cell_type": "markdown",
   "metadata": {},
   "source": [
    "### Define NN architecture"
   ]
  },
  {
   "cell_type": "code",
   "execution_count": 15,
   "metadata": {
    "id": "lAqzcW9XREvu"
   },
   "outputs": [],
   "source": [
    "class MLP(nn.Module):\n",
    "    def __init__(self, input_dim, hidden_in, hidden_out, out_classes):\n",
    "        super().__init__()\n",
    "        self.layers = nn.Sequential(\n",
    "          nn.Flatten(),\n",
    "          nn.Linear(input_dim, hidden_in),   #input layer\n",
    "          nn.ReLU(),\n",
    "          nn.Linear(hidden_in, hidden_out),  #hidden layer\n",
    "          nn.ReLU(),\n",
    "          nn.Linear(hidden_out, out_classes) #output layer\n",
    "        )\n",
    "\n",
    "    def forward(self, x):\n",
    "        y_pred = self.layers(x)\n",
    "        return y_pred"
   ]
  },
  {
   "cell_type": "code",
   "execution_count": 16,
   "metadata": {},
   "outputs": [],
   "source": [
    "class MLP_2_Hidden(nn.Module):\n",
    "    def __init__(self, input_dim, hidden_1_in, hidden_1_out, hidden_2_out, out_classes):\n",
    "        super().__init__()\n",
    "        self.layers = nn.Sequential(\n",
    "          nn.Flatten(),\n",
    "          nn.Linear(input_dim, hidden_1_in),            #input layer\n",
    "          nn.ReLU(),\n",
    "          nn.Linear(hidden_1_in, hidden_1_out),         #hidden layer 1\n",
    "          nn.ReLU(),\n",
    "          nn.Linear(hidden_1_out, hidden_2_out),        #hidden layer 2\n",
    "          nn.ReLU(),\n",
    "          nn.Linear(hidden_2_out, out_classes)                   #output layer\n",
    "        )\n",
    "\n",
    "    def forward(self, x):\n",
    "        y_pred = self.layers(x)\n",
    "        return y_pred"
   ]
  },
  {
   "cell_type": "code",
   "execution_count": 17,
   "metadata": {
    "id": "OO2BL-qBREwD"
   },
   "outputs": [],
   "source": [
    "criterion = nn.CrossEntropyLoss()"
   ]
  },
  {
   "cell_type": "code",
   "execution_count": 18,
   "metadata": {
    "id": "VkttGrmkREwP"
   },
   "outputs": [],
   "source": [
    "def calc_accuracy(y_pred, y):\n",
    "    top_pred = y_pred.argmax(1, keepdim=True)\n",
    "    correct = top_pred.eq(y.view_as(top_pred)).sum()\n",
    "    acc = correct.float() / y.shape[0]\n",
    "    return acc"
   ]
  },
  {
   "cell_type": "code",
   "execution_count": 19,
   "metadata": {
    "id": "0kCtKBMfREwS"
   },
   "outputs": [],
   "source": [
    "def train(model, iterator, optimizer, criterion, device):\n",
    "    epoch_loss = 0\n",
    "    epoch_acc = 0\n",
    "    model.train()\n",
    "    for (x, y) in iterator:\n",
    "        x = x.to(device)\n",
    "        y = y.to(device)\n",
    "        optimizer.zero_grad()\n",
    "        y_pred = model(x)\n",
    "        loss = criterion(y_pred, y)\n",
    "        acc = calc_accuracy(y_pred, y)\n",
    "        loss.backward()\n",
    "        optimizer.step()\n",
    "        epoch_loss += loss.item()\n",
    "        epoch_acc += acc.item()\n",
    "    return epoch_loss / len(iterator), epoch_acc / len(iterator)"
   ]
  },
  {
   "cell_type": "code",
   "execution_count": 20,
   "metadata": {
    "id": "3XL4sRI8REwV"
   },
   "outputs": [],
   "source": [
    "def evaluate(model, iterator, criterion, device):\n",
    "    epoch_loss = 0\n",
    "    epoch_acc = 0\n",
    "    model.eval()\n",
    "    with torch.no_grad():\n",
    "        for (x, y) in iterator:\n",
    "            x = x.to(device)\n",
    "            y = y.to(device)\n",
    "            y_pred = model(x)\n",
    "            loss = criterion(y_pred, y)\n",
    "            acc = calc_accuracy(y_pred, y)\n",
    "            epoch_loss += loss.item()\n",
    "            epoch_acc += acc.item()\n",
    "    return epoch_loss / len(iterator), epoch_acc / len(iterator)"
   ]
  },
  {
   "cell_type": "code",
   "execution_count": 21,
   "metadata": {
    "colab": {
     "base_uri": "https://localhost:8080/",
     "height": 557
    },
    "id": "p-gtfzafREwc",
    "outputId": "a1314661-c18c-4de6-d6f5-89541165199e"
   },
   "outputs": [],
   "source": [
    "def train_val_workflow(model, model_save_name):\n",
    "    best_valid_loss = float('inf') #unbound upper value\n",
    "    for epoch in range(EPOCHS):\n",
    "        train_loss, train_acc = train(model, train_iterator, optimizer, criterion, device)\n",
    "        valid_loss, valid_acc = evaluate(model, valid_iterator, criterion, device)\n",
    "        if valid_loss < best_valid_loss:\n",
    "            best_valid_loss = valid_loss\n",
    "            torch.save(model.state_dict(), model_save_name)\n",
    "        print(f'Epoch: {epoch}, Train Loss: {train_loss:.2f}, Val. Loss: {valid_loss:.2f}, Train Acc: {train_acc*100:.2f}%, Val. Acc: {valid_acc*100:.2f}%')"
   ]
  },
  {
   "cell_type": "markdown",
   "metadata": {},
   "source": [
    "### MLP with 1 hidden layer"
   ]
  },
  {
   "cell_type": "code",
   "execution_count": 22,
   "metadata": {},
   "outputs": [],
   "source": [
    "#test these parameters\n",
    "hidden_in=128\n",
    "hidden_out=32"
   ]
  },
  {
   "cell_type": "code",
   "execution_count": 23,
   "metadata": {},
   "outputs": [],
   "source": [
    "model = MLP(INPUT_DIM, hidden_in, hidden_out, OUT_CLASSES)"
   ]
  },
  {
   "cell_type": "code",
   "execution_count": 24,
   "metadata": {},
   "outputs": [],
   "source": [
    "model = model.to(device)\n",
    "criterion = criterion.to(device)"
   ]
  },
  {
   "cell_type": "code",
   "execution_count": 25,
   "metadata": {
    "id": "eC2P8WJuREv_"
   },
   "outputs": [],
   "source": [
    "optimizer = optim.Adam(model.parameters())"
   ]
  },
  {
   "cell_type": "code",
   "execution_count": 26,
   "metadata": {},
   "outputs": [
    {
     "name": "stdout",
     "output_type": "stream",
     "text": [
      "Parameters: 104938, MACS: 6705152.0\n"
     ]
    }
   ],
   "source": [
    "#MNIST has only 1 channel\n",
    "data_shape=(BATCH_SIZE, 1, IMAGE_SIZE, IMAGE_SIZE)\n",
    "print(f'Parameters: {count_parameters(model)}, MACS: {count_net_flops(model, data_shape)}')"
   ]
  },
  {
   "cell_type": "code",
   "execution_count": 27,
   "metadata": {},
   "outputs": [
    {
     "name": "stdout",
     "output_type": "stream",
     "text": [
      "Epoch: 0, Train Loss: 0.38, Val. Loss: 0.20, Train Acc: 89.49%, Val. Acc: 94.17%\n",
      "Epoch: 1, Train Loss: 0.15, Val. Loss: 0.14, Train Acc: 95.59%, Val. Acc: 95.94%\n",
      "Epoch: 2, Train Loss: 0.11, Val. Loss: 0.13, Train Acc: 96.87%, Val. Acc: 95.90%\n",
      "Epoch: 3, Train Loss: 0.08, Val. Loss: 0.11, Train Acc: 97.52%, Val. Acc: 96.48%\n",
      "Epoch: 4, Train Loss: 0.06, Val. Loss: 0.10, Train Acc: 97.97%, Val. Acc: 97.02%\n",
      "Epoch: 5, Train Loss: 0.05, Val. Loss: 0.09, Train Acc: 98.44%, Val. Acc: 97.25%\n",
      "Epoch: 6, Train Loss: 0.04, Val. Loss: 0.10, Train Acc: 98.70%, Val. Acc: 97.14%\n",
      "Epoch: 7, Train Loss: 0.04, Val. Loss: 0.10, Train Acc: 98.86%, Val. Acc: 96.92%\n",
      "Epoch: 8, Train Loss: 0.03, Val. Loss: 0.11, Train Acc: 99.07%, Val. Acc: 96.99%\n",
      "Epoch: 9, Train Loss: 0.02, Val. Loss: 0.10, Train Acc: 99.34%, Val. Acc: 97.37%\n"
     ]
    }
   ],
   "source": [
    "train_val_workflow(model, model_save_name='mlp-model.pt')"
   ]
  },
  {
   "cell_type": "code",
   "execution_count": 28,
   "metadata": {},
   "outputs": [
    {
     "name": "stdout",
     "output_type": "stream",
     "text": [
      "Test Loss: 0.086, Test Acc: 97.45%\n"
     ]
    }
   ],
   "source": [
    "model.load_state_dict(torch.load('mlp-model.pt'))\n",
    "test_loss, test_acc = evaluate(model, test_iterator, criterion, device)\n",
    "print(f'Test Loss: {test_loss:.3f}, Test Acc: {test_acc*100:.2f}%')"
   ]
  },
  {
   "cell_type": "markdown",
   "metadata": {},
   "source": [
    "### MLP with 2 hidden layers"
   ]
  },
  {
   "cell_type": "code",
   "execution_count": 29,
   "metadata": {},
   "outputs": [],
   "source": [
    "#test these parameters\n",
    "batch_size = 64\n",
    "hidden_1_in = 128\n",
    "hidden_1_out = 64\n",
    "hidden_2_out = 32"
   ]
  },
  {
   "cell_type": "code",
   "execution_count": 30,
   "metadata": {},
   "outputs": [],
   "source": [
    "model = MLP_2_Hidden(INPUT_DIM, hidden_1_in, hidden_1_out, hidden_2_out, OUT_CLASSES)"
   ]
  },
  {
   "cell_type": "code",
   "execution_count": 31,
   "metadata": {},
   "outputs": [],
   "source": [
    "model = model.to(device)\n",
    "criterion = criterion.to(device)"
   ]
  },
  {
   "cell_type": "code",
   "execution_count": 32,
   "metadata": {},
   "outputs": [],
   "source": [
    "optimizer = optim.Adam(model.parameters())"
   ]
  },
  {
   "cell_type": "code",
   "execution_count": 33,
   "metadata": {},
   "outputs": [
    {
     "name": "stdout",
     "output_type": "stream",
     "text": [
      "Epoch: 0, Train Loss: 0.40, Val. Loss: 0.20, Train Acc: 88.37%, Val. Acc: 94.08%\n",
      "Epoch: 1, Train Loss: 0.15, Val. Loss: 0.15, Train Acc: 95.40%, Val. Acc: 95.68%\n",
      "Epoch: 2, Train Loss: 0.11, Val. Loss: 0.13, Train Acc: 96.79%, Val. Acc: 96.14%\n",
      "Epoch: 3, Train Loss: 0.08, Val. Loss: 0.11, Train Acc: 97.43%, Val. Acc: 96.62%\n",
      "Epoch: 4, Train Loss: 0.07, Val. Loss: 0.11, Train Acc: 97.90%, Val. Acc: 96.77%\n",
      "Epoch: 5, Train Loss: 0.05, Val. Loss: 0.11, Train Acc: 98.33%, Val. Acc: 96.97%\n",
      "Epoch: 6, Train Loss: 0.05, Val. Loss: 0.11, Train Acc: 98.52%, Val. Acc: 96.76%\n",
      "Epoch: 7, Train Loss: 0.04, Val. Loss: 0.10, Train Acc: 98.79%, Val. Acc: 97.12%\n",
      "Epoch: 8, Train Loss: 0.03, Val. Loss: 0.13, Train Acc: 99.02%, Val. Acc: 96.52%\n",
      "Epoch: 9, Train Loss: 0.03, Val. Loss: 0.11, Train Acc: 99.09%, Val. Acc: 97.02%\n"
     ]
    }
   ],
   "source": [
    "train_val_workflow(model, model_save_name='mlp-2h-model.pt')"
   ]
  },
  {
   "cell_type": "code",
   "execution_count": 34,
   "metadata": {},
   "outputs": [
    {
     "name": "stdout",
     "output_type": "stream",
     "text": [
      "Test Loss: 0.095, Test Acc: 97.24%\n"
     ]
    }
   ],
   "source": [
    "model.load_state_dict(torch.load('mlp-2h-model.pt'))\n",
    "test_loss, test_acc = evaluate(model, test_iterator, criterion, device)\n",
    "print(f'Test Loss: {test_loss:.3f}, Test Acc: {test_acc*100:.2f}%')"
   ]
  }
 ],
 "metadata": {
  "accelerator": "GPU",
  "colab": {
   "machine_shape": "hm",
   "name": "1 - Multilayer Perceptron.ipynb",
   "provenance": []
  },
  "kernelspec": {
   "display_name": "Python 3 (ipykernel)",
   "language": "python",
   "name": "python3"
  },
  "language_info": {
   "codemirror_mode": {
    "name": "ipython",
    "version": 3
   },
   "file_extension": ".py",
   "mimetype": "text/x-python",
   "name": "python",
   "nbconvert_exporter": "python",
   "pygments_lexer": "ipython3",
   "version": "3.11.6"
  }
 },
 "nbformat": 4,
 "nbformat_minor": 4
}
