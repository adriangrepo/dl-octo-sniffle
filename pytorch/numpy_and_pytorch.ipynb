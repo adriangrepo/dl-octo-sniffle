{
 "cells": [
  {
   "cell_type": "markdown",
   "metadata": {},
   "source": [
    "### Numpy and Pytorch basics\n",
    "\n",
    "Some of the sources used for this notebook\n",
    "\n",
    "https://jhui.github.io/2018/02/09/PyTorch-Basic-operations/\n",
    "\n",
    "http://cs231n.github.io/python-numpy-tutorial/\n",
    "\n",
    "https://machinelearningmastery.com/index-slice-reshape-numpy-arrays-machine-learning-python/\n",
    "\n"
   ]
  },
  {
   "cell_type": "code",
   "execution_count": 24,
   "metadata": {
    "ExecuteTime": {
     "end_time": "2019-02-08T10:43:39.375406Z",
     "start_time": "2019-02-08T10:43:39.365879Z"
    }
   },
   "outputs": [],
   "source": [
    "import numpy as np\n",
    "import torch\n",
    "from PIL import Image"
   ]
  },
  {
   "cell_type": "code",
   "execution_count": 5,
   "metadata": {
    "ExecuteTime": {
     "end_time": "2019-02-08T10:29:09.084588Z",
     "start_time": "2019-02-08T10:29:09.080662Z"
    }
   },
   "outputs": [
    {
     "data": {
      "text/plain": [
       "'1.15.2'"
      ]
     },
     "execution_count": 5,
     "metadata": {},
     "output_type": "execute_result"
    }
   ],
   "source": [
    "# get numpy version\n",
    "np.version.version"
   ]
  },
  {
   "cell_type": "code",
   "execution_count": 2,
   "metadata": {
    "ExecuteTime": {
     "end_time": "2019-02-08T10:26:05.225852Z",
     "start_time": "2019-02-08T10:26:05.221689Z"
    }
   },
   "outputs": [
    {
     "name": "stdout",
     "output_type": "stream",
     "text": [
      "1.0.0.dev20181019\n"
     ]
    }
   ],
   "source": [
    "# get pytorch version\n",
    "print(torch.__version__)"
   ]
  },
  {
   "cell_type": "markdown",
   "metadata": {},
   "source": [
    "### Numpy Arrays\n",
    "\n",
    "Create 2D Array\n",
    "\n",
    "Note we need to use two brackes ie [[..][..]]"
   ]
  },
  {
   "cell_type": "code",
   "execution_count": 8,
   "metadata": {
    "ExecuteTime": {
     "end_time": "2019-02-08T10:31:15.518201Z",
     "start_time": "2019-02-08T10:31:15.511551Z"
    }
   },
   "outputs": [
    {
     "data": {
      "text/plain": [
       "(2, 3)"
      ]
     },
     "execution_count": 8,
     "metadata": {},
     "output_type": "execute_result"
    }
   ],
   "source": [
    "a = np.array([[1,4,5],[2,7,4]])\n",
    "a.shape"
   ]
  },
  {
   "cell_type": "code",
   "execution_count": null,
   "metadata": {},
   "outputs": [],
   "source": [
    "3D and 4D arrays"
   ]
  },
  {
   "cell_type": "code",
   "execution_count": 9,
   "metadata": {
    "ExecuteTime": {
     "end_time": "2019-02-08T10:31:49.644455Z",
     "start_time": "2019-02-08T10:31:49.639489Z"
    }
   },
   "outputs": [
    {
     "data": {
      "text/plain": [
       "(3, 3)"
      ]
     },
     "execution_count": 9,
     "metadata": {},
     "output_type": "execute_result"
    }
   ],
   "source": [
    "b = np.array([[1,4,5],[2,7,4],[8,9,10]])\n",
    "b.shape"
   ]
  },
  {
   "cell_type": "code",
   "execution_count": 16,
   "metadata": {
    "ExecuteTime": {
     "end_time": "2019-02-08T10:36:55.964464Z",
     "start_time": "2019-02-08T10:36:55.958275Z"
    }
   },
   "outputs": [
    {
     "data": {
      "text/plain": [
       "array([[0., 0.],\n",
       "       [0., 0.]])"
      ]
     },
     "execution_count": 16,
     "metadata": {},
     "output_type": "execute_result"
    }
   ],
   "source": [
    "a = np.zeros((2,2))   \n",
    "a"
   ]
  },
  {
   "cell_type": "code",
   "execution_count": 18,
   "metadata": {
    "ExecuteTime": {
     "end_time": "2019-02-08T10:37:06.778859Z",
     "start_time": "2019-02-08T10:37:06.774144Z"
    }
   },
   "outputs": [
    {
     "data": {
      "text/plain": [
       "array([[[1., 1.],\n",
       "        [1., 1.]],\n",
       "\n",
       "       [[1., 1.],\n",
       "        [1., 1.]]])"
      ]
     },
     "execution_count": 18,
     "metadata": {},
     "output_type": "execute_result"
    }
   ],
   "source": [
    "b = np.ones((2,2,2))    \n",
    "b"
   ]
  },
  {
   "cell_type": "code",
   "execution_count": 19,
   "metadata": {
    "ExecuteTime": {
     "end_time": "2019-02-08T10:37:14.826607Z",
     "start_time": "2019-02-08T10:37:14.820464Z"
    }
   },
   "outputs": [
    {
     "data": {
      "text/plain": [
       "array([[42, 42],\n",
       "       [42, 42]])"
      ]
     },
     "execution_count": 19,
     "metadata": {},
     "output_type": "execute_result"
    }
   ],
   "source": [
    "# array of constants\n",
    "c = np.full((2,2), 42)  \n",
    "c"
   ]
  },
  {
   "cell_type": "code",
   "execution_count": 13,
   "metadata": {
    "ExecuteTime": {
     "end_time": "2019-02-08T10:36:00.633328Z",
     "start_time": "2019-02-08T10:36:00.627389Z"
    }
   },
   "outputs": [
    {
     "data": {
      "text/plain": [
       "array([[1., 0.],\n",
       "       [0., 1.]])"
      ]
     },
     "execution_count": 13,
     "metadata": {},
     "output_type": "execute_result"
    }
   ],
   "source": [
    "#Identity matrix\n",
    "d = np.eye(2)  \n",
    "d"
   ]
  },
  {
   "cell_type": "code",
   "execution_count": 12,
   "metadata": {
    "ExecuteTime": {
     "end_time": "2019-02-08T10:35:57.354176Z",
     "start_time": "2019-02-08T10:35:57.348348Z"
    }
   },
   "outputs": [
    {
     "data": {
      "text/plain": [
       "array([[0.42487278, 0.92113314],\n",
       "       [0.26282134, 0.16494706]])"
      ]
     },
     "execution_count": 12,
     "metadata": {},
     "output_type": "execute_result"
    }
   ],
   "source": [
    "e = np.random.random((2,2))\n",
    "e"
   ]
  },
  {
   "cell_type": "code",
   "execution_count": 15,
   "metadata": {
    "ExecuteTime": {
     "end_time": "2019-02-08T10:36:47.928859Z",
     "start_time": "2019-02-08T10:36:47.923349Z"
    }
   },
   "outputs": [
    {
     "data": {
      "text/plain": [
       "array([[0.42487278, 0.26282134],\n",
       "       [0.92113314, 0.16494706]])"
      ]
     },
     "execution_count": 15,
     "metadata": {},
     "output_type": "execute_result"
    }
   ],
   "source": [
    "#Transpose\n",
    "e.T"
   ]
  },
  {
   "cell_type": "code",
   "execution_count": null,
   "metadata": {},
   "outputs": [],
   "source": []
  },
  {
   "cell_type": "markdown",
   "metadata": {},
   "source": [
    "### Arrays from lists"
   ]
  },
  {
   "cell_type": "code",
   "execution_count": 37,
   "metadata": {
    "ExecuteTime": {
     "end_time": "2019-02-08T10:56:06.201403Z",
     "start_time": "2019-02-08T10:56:06.194208Z"
    }
   },
   "outputs": [
    {
     "data": {
      "text/plain": [
       "([[34, 56, 65], [23, 55, 32], [12, 2, 84]], list)"
      ]
     },
     "execution_count": 37,
     "metadata": {},
     "output_type": "execute_result"
    }
   ],
   "source": [
    "e = [[34,56,65],[23,55,32],[12,2,84]]\n",
    "e, type(e)"
   ]
  },
  {
   "cell_type": "code",
   "execution_count": 38,
   "metadata": {
    "ExecuteTime": {
     "end_time": "2019-02-08T10:56:08.120790Z",
     "start_time": "2019-02-08T10:56:08.114243Z"
    }
   },
   "outputs": [
    {
     "data": {
      "text/plain": [
       "(array([[34, 56, 65],\n",
       "        [23, 55, 32],\n",
       "        [12,  2, 84]]), numpy.ndarray)"
      ]
     },
     "execution_count": 38,
     "metadata": {},
     "output_type": "execute_result"
    }
   ],
   "source": [
    "e = np.array(e)\n",
    "e, type(e)"
   ]
  },
  {
   "cell_type": "markdown",
   "metadata": {},
   "source": [
    "### Slicing"
   ]
  },
  {
   "cell_type": "code",
   "execution_count": 39,
   "metadata": {
    "ExecuteTime": {
     "end_time": "2019-02-08T10:56:17.049135Z",
     "start_time": "2019-02-08T10:56:17.041972Z"
    }
   },
   "outputs": [
    {
     "data": {
      "text/plain": [
       "(array([[34, 56],\n",
       "        [23, 55],\n",
       "        [12,  2]]), (3, 2))"
      ]
     },
     "execution_count": 39,
     "metadata": {},
     "output_type": "execute_result"
    }
   ],
   "source": [
    "#All rows, all except last column\n",
    "f = e[:,:-1]\n",
    "f, f.shape"
   ]
  },
  {
   "cell_type": "code",
   "execution_count": 40,
   "metadata": {
    "ExecuteTime": {
     "end_time": "2019-02-08T10:56:24.328669Z",
     "start_time": "2019-02-08T10:56:24.322198Z"
    }
   },
   "outputs": [
    {
     "data": {
      "text/plain": [
       "array([34, 56, 65])"
      ]
     },
     "execution_count": 40,
     "metadata": {},
     "output_type": "execute_result"
    }
   ],
   "source": [
    "#first row all columns\n",
    "f = e[0,:]\n",
    "f"
   ]
  },
  {
   "cell_type": "code",
   "execution_count": 42,
   "metadata": {
    "ExecuteTime": {
     "end_time": "2019-02-08T10:57:10.103566Z",
     "start_time": "2019-02-08T10:57:10.097559Z"
    }
   },
   "outputs": [
    {
     "data": {
      "text/plain": [
       "array([65, 32, 84])"
      ]
     },
     "execution_count": 42,
     "metadata": {},
     "output_type": "execute_result"
    }
   ],
   "source": [
    "#all rows, last column\n",
    "f = e[:,-1]\n",
    "f"
   ]
  },
  {
   "cell_type": "markdown",
   "metadata": {
    "ExecuteTime": {
     "end_time": "2019-02-08T10:58:06.018161Z",
     "start_time": "2019-02-08T10:58:06.014740Z"
    }
   },
   "source": [
    "### Split - eg for train and test\n",
    "\n",
    "[start:stop:step]"
   ]
  },
  {
   "cell_type": "code",
   "execution_count": 48,
   "metadata": {
    "ExecuteTime": {
     "end_time": "2019-02-08T11:00:51.879499Z",
     "start_time": "2019-02-08T11:00:51.874215Z"
    }
   },
   "outputs": [
    {
     "data": {
      "text/plain": [
       "((2, 3), array([[34, 56, 65],\n",
       "        [23, 55, 32]]))"
      ]
     },
     "execution_count": 48,
     "metadata": {},
     "output_type": "execute_result"
    }
   ],
   "source": [
    "#split on (zero indexed) row number\n",
    "split = 2\n",
    "train = e[:split,:]\n",
    "train.shape, train"
   ]
  },
  {
   "cell_type": "code",
   "execution_count": 49,
   "metadata": {
    "ExecuteTime": {
     "end_time": "2019-02-08T11:01:17.013652Z",
     "start_time": "2019-02-08T11:01:17.009637Z"
    }
   },
   "outputs": [
    {
     "data": {
      "text/plain": [
       "((1, 3), array([[12,  2, 84]]))"
      ]
     },
     "execution_count": 49,
     "metadata": {},
     "output_type": "execute_result"
    }
   ],
   "source": [
    "test = e[split:,:]\n",
    "test.shape, test"
   ]
  },
  {
   "cell_type": "code",
   "execution_count": 51,
   "metadata": {
    "ExecuteTime": {
     "end_time": "2019-02-08T11:02:22.038702Z",
     "start_time": "2019-02-08T11:02:22.032366Z"
    }
   },
   "outputs": [
    {
     "data": {
      "text/plain": [
       "array([[56, 65],\n",
       "       [55, 32]])"
      ]
     },
     "execution_count": 51,
     "metadata": {},
     "output_type": "execute_result"
    }
   ],
   "source": [
    "# get the first 2 rows and columns 1 and 2\n",
    "b = e[:2, 1:3]\n",
    "b"
   ]
  },
  {
   "cell_type": "markdown",
   "metadata": {},
   "source": [
    "### Reshaping"
   ]
  },
  {
   "cell_type": "code",
   "execution_count": 52,
   "metadata": {
    "ExecuteTime": {
     "end_time": "2019-02-08T11:05:04.245127Z",
     "start_time": "2019-02-08T11:05:04.239629Z"
    }
   },
   "outputs": [
    {
     "data": {
      "text/plain": [
       "(3, 3)"
      ]
     },
     "execution_count": 52,
     "metadata": {},
     "output_type": "execute_result"
    }
   ],
   "source": [
    "e.shape"
   ]
  },
  {
   "cell_type": "code",
   "execution_count": 53,
   "metadata": {
    "ExecuteTime": {
     "end_time": "2019-02-08T11:05:11.079227Z",
     "start_time": "2019-02-08T11:05:11.074934Z"
    }
   },
   "outputs": [],
   "source": [
    "h = e.reshape((e.shape[0], e.shape[1], 1))"
   ]
  },
  {
   "cell_type": "code",
   "execution_count": 54,
   "metadata": {
    "ExecuteTime": {
     "end_time": "2019-02-08T11:05:14.983107Z",
     "start_time": "2019-02-08T11:05:14.977663Z"
    }
   },
   "outputs": [
    {
     "data": {
      "text/plain": [
       "(3, 3, 1)"
      ]
     },
     "execution_count": 54,
     "metadata": {},
     "output_type": "execute_result"
    }
   ],
   "source": [
    "h.shape"
   ]
  },
  {
   "cell_type": "code",
   "execution_count": 55,
   "metadata": {
    "ExecuteTime": {
     "end_time": "2019-02-08T11:05:21.765816Z",
     "start_time": "2019-02-08T11:05:21.760485Z"
    }
   },
   "outputs": [
    {
     "data": {
      "text/plain": [
       "array([[[34],\n",
       "        [56],\n",
       "        [65]],\n",
       "\n",
       "       [[23],\n",
       "        [55],\n",
       "        [32]],\n",
       "\n",
       "       [[12],\n",
       "        [ 2],\n",
       "        [84]]])"
      ]
     },
     "execution_count": 55,
     "metadata": {},
     "output_type": "execute_result"
    }
   ],
   "source": [
    "h"
   ]
  },
  {
   "cell_type": "code",
   "execution_count": 62,
   "metadata": {
    "ExecuteTime": {
     "end_time": "2019-02-08T11:06:59.343384Z",
     "start_time": "2019-02-08T11:06:59.340612Z"
    }
   },
   "outputs": [],
   "source": [
    "h = e.reshape((1, -1))"
   ]
  },
  {
   "cell_type": "code",
   "execution_count": 63,
   "metadata": {
    "ExecuteTime": {
     "end_time": "2019-02-08T11:07:01.268399Z",
     "start_time": "2019-02-08T11:07:01.263500Z"
    }
   },
   "outputs": [
    {
     "data": {
      "text/plain": [
       "(1, 9)"
      ]
     },
     "execution_count": 63,
     "metadata": {},
     "output_type": "execute_result"
    }
   ],
   "source": [
    "h.shape"
   ]
  },
  {
   "cell_type": "code",
   "execution_count": 64,
   "metadata": {
    "ExecuteTime": {
     "end_time": "2019-02-08T11:07:05.402955Z",
     "start_time": "2019-02-08T11:07:05.397258Z"
    }
   },
   "outputs": [
    {
     "data": {
      "text/plain": [
       "array([[34, 56, 65, 23, 55, 32, 12,  2, 84]])"
      ]
     },
     "execution_count": 64,
     "metadata": {},
     "output_type": "execute_result"
    }
   ],
   "source": [
    "h"
   ]
  },
  {
   "cell_type": "markdown",
   "metadata": {},
   "source": [
    "### pytorch dot products"
   ]
  },
  {
   "cell_type": "code",
   "execution_count": 65,
   "metadata": {
    "ExecuteTime": {
     "end_time": "2019-02-08T12:15:06.132594Z",
     "start_time": "2019-02-08T12:15:06.106894Z"
    }
   },
   "outputs": [
    {
     "data": {
      "text/plain": [
       "tensor([[-0.5134,  1.0000],\n",
       "        [-0.6057,  1.0000],\n",
       "        [ 0.7419,  1.0000],\n",
       "        [ 0.1915,  1.0000],\n",
       "        [-0.5254,  1.0000]])"
      ]
     },
     "execution_count": 65,
     "metadata": {},
     "output_type": "execute_result"
    }
   ],
   "source": [
    "n=100\n",
    "x = torch.ones(n,2) \n",
    "x[:,0].uniform_(-1.,1)\n",
    "x[:5]"
   ]
  },
  {
   "cell_type": "code",
   "execution_count": 89,
   "metadata": {
    "ExecuteTime": {
     "end_time": "2019-02-08T12:24:44.428277Z",
     "start_time": "2019-02-08T12:24:44.424675Z"
    }
   },
   "outputs": [],
   "source": [
    "# 2x3: A uniform distributed random matrix with range [0, 1]\n",
    "v = torch.Tensor(2, 3).uniform_(0, 1)"
   ]
  },
  {
   "cell_type": "code",
   "execution_count": 90,
   "metadata": {
    "ExecuteTime": {
     "end_time": "2019-02-08T12:24:45.554615Z",
     "start_time": "2019-02-08T12:24:45.548728Z"
    }
   },
   "outputs": [
    {
     "data": {
      "text/plain": [
       "(torch.Size([2, 3]), torch.Size([100, 2]))"
      ]
     },
     "execution_count": 90,
     "metadata": {},
     "output_type": "execute_result"
    }
   ],
   "source": [
    "v.shape, x.shape"
   ]
  },
  {
   "cell_type": "markdown",
   "metadata": {},
   "source": [
    "matrix 1 rows must be same size as matrix 2 columns"
   ]
  },
  {
   "cell_type": "code",
   "execution_count": 91,
   "metadata": {
    "ExecuteTime": {
     "end_time": "2019-02-08T12:24:47.155504Z",
     "start_time": "2019-02-08T12:24:47.148399Z"
    }
   },
   "outputs": [
    {
     "data": {
      "text/plain": [
       "(torch.Size([100, 3]), tensor([-0.0672,  0.0042,  0.4846]))"
      ]
     },
     "execution_count": 91,
     "metadata": {},
     "output_type": "execute_result"
    }
   ],
   "source": [
    "xv = x.mm(v) # computes A.B (matrix multiplication)\n",
    "xv.shape, xv[0]"
   ]
  },
  {
   "cell_type": "code",
   "execution_count": 92,
   "metadata": {
    "ExecuteTime": {
     "end_time": "2019-02-08T12:24:48.224412Z",
     "start_time": "2019-02-08T12:24:48.218839Z"
    }
   },
   "outputs": [
    {
     "data": {
      "text/plain": [
       "(torch.Size([100, 3]), tensor([-0.0672,  0.0042,  0.4846]))"
      ]
     },
     "execution_count": 92,
     "metadata": {},
     "output_type": "execute_result"
    }
   ],
   "source": [
    "xv = torch.mm(x, v)\n",
    "xv.shape, xv[0]"
   ]
  },
  {
   "cell_type": "code",
   "execution_count": 93,
   "metadata": {
    "ExecuteTime": {
     "end_time": "2019-02-08T12:24:49.650365Z",
     "start_time": "2019-02-08T12:24:49.643913Z"
    }
   },
   "outputs": [
    {
     "data": {
      "text/plain": [
       "(torch.Size([100, 3]), tensor([-0.0672,  0.0042,  0.4846]))"
      ]
     },
     "execution_count": 93,
     "metadata": {},
     "output_type": "execute_result"
    }
   ],
   "source": [
    "xv = x@v\n",
    "xv.shape, xv[0]"
   ]
  },
  {
   "cell_type": "markdown",
   "metadata": {
    "ExecuteTime": {
     "end_time": "2019-02-08T12:21:10.606708Z",
     "start_time": "2019-02-08T12:21:10.603445Z"
    }
   },
   "source": [
    "### hadamard (elementwise) product"
   ]
  },
  {
   "cell_type": "code",
   "execution_count": 95,
   "metadata": {
    "ExecuteTime": {
     "end_time": "2019-02-08T12:26:27.109639Z",
     "start_time": "2019-02-08T12:26:27.101325Z"
    }
   },
   "outputs": [
    {
     "data": {
      "text/plain": [
       "(tensor([[4.0415, 3.7547, 8.6553],\n",
       "         [4.4429, 0.8730, 4.0553]]), tensor([[39.3618, 59.9290, 77.3383],\n",
       "         [33.4531, 88.1694, 56.3550]]))"
      ]
     },
     "execution_count": 95,
     "metadata": {},
     "output_type": "execute_result"
    }
   ],
   "source": [
    "y = torch.Tensor(2, 3).uniform_(0, 10)\n",
    "z = torch.Tensor(2, 3).uniform_(10, 100)\n",
    "y, z"
   ]
  },
  {
   "cell_type": "code",
   "execution_count": 97,
   "metadata": {
    "ExecuteTime": {
     "end_time": "2019-02-08T12:26:39.441853Z",
     "start_time": "2019-02-08T12:26:39.435599Z"
    }
   },
   "outputs": [
    {
     "data": {
      "text/plain": [
       "tensor([[159.0811, 225.0157, 669.3827],\n",
       "        [148.6297,  76.9733, 228.5387]])"
      ]
     },
     "execution_count": 97,
     "metadata": {},
     "output_type": "execute_result"
    }
   ],
   "source": [
    "yz = y * z \n",
    "yz.shape; yz"
   ]
  },
  {
   "cell_type": "code",
   "execution_count": null,
   "metadata": {},
   "outputs": [],
   "source": []
  }
 ],
 "metadata": {
  "kernelspec": {
   "display_name": "Python",
   "language": "python",
   "name": "python3"
  },
  "language_info": {
   "codemirror_mode": {
    "name": "ipython",
    "version": 3
   },
   "file_extension": ".py",
   "mimetype": "text/x-python",
   "name": "python",
   "nbconvert_exporter": "python",
   "pygments_lexer": "ipython3",
   "version": "3.7.2"
  },
  "varInspector": {
   "cols": {
    "lenName": 16,
    "lenType": 16,
    "lenVar": 40
   },
   "kernels_config": {
    "python": {
     "delete_cmd_postfix": "",
     "delete_cmd_prefix": "del ",
     "library": "var_list.py",
     "varRefreshCmd": "print(var_dic_list())"
    },
    "r": {
     "delete_cmd_postfix": ") ",
     "delete_cmd_prefix": "rm(",
     "library": "var_list.r",
     "varRefreshCmd": "cat(var_dic_list()) "
    }
   },
   "types_to_exclude": [
    "module",
    "function",
    "builtin_function_or_method",
    "instance",
    "_Feature"
   ],
   "window_display": false
  }
 },
 "nbformat": 4,
 "nbformat_minor": 2
}
