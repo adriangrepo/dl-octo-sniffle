{
 "cells": [
  {
   "cell_type": "markdown",
   "metadata": {},
   "source": [
    "### MLP's in Pytorch"
   ]
  },
  {
   "cell_type": "code",
   "execution_count": 16,
   "metadata": {},
   "outputs": [],
   "source": [
    "import time\n",
    "import numpy as np\n",
    "from glob import glob\n",
    "from os import listdir, walk\n",
    "from os.path import isfile, join\n",
    "import matplotlib.pyplot as plt\n",
    "\n",
    "import torch\n",
    "import torch.nn as nn\n",
    "from torch.autograd import Variable\n",
    "import torch.nn.functional as F\n",
    "import torchvision\n",
    "import torchvision.transforms as transforms\n",
    "from torchvision import datasets\n",
    "import torch.optim as optim"
   ]
  },
  {
   "cell_type": "code",
   "execution_count": 17,
   "metadata": {},
   "outputs": [],
   "source": [
    "%matplotlib inline"
   ]
  },
  {
   "cell_type": "code",
   "execution_count": 18,
   "metadata": {},
   "outputs": [
    {
     "data": {
      "text/plain": [
       "True"
      ]
     },
     "execution_count": 18,
     "metadata": {},
     "output_type": "execute_result"
    }
   ],
   "source": [
    "is_cuda=False\n",
    "if torch.cuda.is_available():\n",
    "    is_cuda = True\n",
    "is_cuda"
   ]
  },
  {
   "cell_type": "code",
   "execution_count": 19,
   "metadata": {},
   "outputs": [
    {
     "data": {
      "text/plain": [
       "device(type='cuda', index=0)"
      ]
     },
     "execution_count": 19,
     "metadata": {},
     "output_type": "execute_result"
    }
   ],
   "source": [
    "device = torch.device('cuda:0' if torch.cuda.is_available() else 'cpu')\n",
    "device"
   ]
  },
  {
   "cell_type": "code",
   "execution_count": 20,
   "metadata": {},
   "outputs": [],
   "source": [
    "transfms = transforms.Compose([transforms.ToTensor(), transforms.Normalize((0.5,), (1.0,))])"
   ]
  },
  {
   "cell_type": "code",
   "execution_count": 21,
   "metadata": {},
   "outputs": [],
   "source": [
    "train_dataset = datasets.MNIST('../data/',train=True, transform=transfms, download=True)\n",
    "test_dataset = datasets.MNIST('../data/',train=False, transform=transfms, download=True)\n"
   ]
  },
  {
   "cell_type": "code",
   "execution_count": 22,
   "metadata": {},
   "outputs": [],
   "source": [
    "# model parameters\n",
    "num_epochs = 5\n",
    "num_classes = 10\n",
    "batch_size = 100\n",
    "learning_rate = 0.01\n",
    "image_h = 28\n",
    "image_w = 28"
   ]
  },
  {
   "cell_type": "code",
   "execution_count": 23,
   "metadata": {},
   "outputs": [],
   "source": [
    "# Data loader\n",
    "train_loader = torch.utils.data.DataLoader(dataset=train_dataset,\n",
    "                                           batch_size=batch_size, shuffle=True)\n",
    "\n",
    "test_loader = torch.utils.data.DataLoader(dataset=test_dataset,\n",
    "                                          batch_size=batch_size, shuffle=False)"
   ]
  },
  {
   "cell_type": "code",
   "execution_count": 24,
   "metadata": {},
   "outputs": [],
   "source": [
    "def show_batch(batch):\n",
    "    im = torchvision.utils.make_grid(batch)\n",
    "    plt.imshow(np.transpose(im.numpy(), (1, 2, 0)))"
   ]
  },
  {
   "cell_type": "code",
   "execution_count": 26,
   "metadata": {},
   "outputs": [
    {
     "name": "stderr",
     "output_type": "stream",
     "text": [
      "Clipping input data to the valid range for imshow with RGB data ([0..1] for floats or [0..255] for integers).\n"
     ]
    },
    {
     "name": "stdout",
     "output_type": "stream",
     "text": [
      "Labels:  tensor([8, 0, 9, 3, 4, 2, 9, 4, 5, 3, 0, 0, 3, 2, 3, 0, 7, 6, 0, 1, 1, 2, 2, 6,\n",
      "        7, 8, 3, 5, 9, 0, 4, 0, 9, 0, 4, 9, 2, 8, 6, 3, 2, 0, 1, 4, 5, 6, 7, 6,\n",
      "        7, 2, 7, 3, 6, 1, 0, 9, 3, 6, 7, 4, 8, 7, 1, 2, 4, 6, 3, 0, 8, 5, 1, 7,\n",
      "        9, 6, 4, 7, 9, 9, 3, 3, 2, 7, 6, 1, 6, 2, 0, 5, 6, 9, 0, 2, 9, 7, 0, 6,\n",
      "        1, 6, 3, 3])\n",
      "Batch shape:  torch.Size([100, 1, 28, 28])\n"
     ]
    },
    {
     "data": {
      "image/png": "[encoded data removed]",
      "text/plain": [
       "<Figure size 432x288 with 1 Axes>"
      ]
     },
     "metadata": {
      "needs_background": "light"
     },
     "output_type": "display_data"
    }
   ],
   "source": [
    "dataiter = iter(train_loader)\n",
    "images, labels = dataiter.next()\n",
    "\n",
    "print('Labels: ', labels)\n",
    "print('Batch shape: ', images.size())\n",
    "show_batch(images)"
   ]
  },
  {
   "cell_type": "code",
   "execution_count": 27,
   "metadata": {},
   "outputs": [
    {
     "data": {
      "text/plain": [
       "torch.Size([100, 1, 28, 28])"
      ]
     },
     "execution_count": 27,
     "metadata": {},
     "output_type": "execute_result"
    }
   ],
   "source": [
    "images.shape"
   ]
  },
  {
   "cell_type": "markdown",
   "metadata": {},
   "source": [
    "As we are using linear layers not 2D convs at some stage we will need to flatten the data to batches of this shape"
   ]
  },
  {
   "cell_type": "code",
   "execution_count": 29,
   "metadata": {},
   "outputs": [
    {
     "data": {
      "text/plain": [
       "torch.Size([100, 784])"
      ]
     },
     "execution_count": 29,
     "metadata": {},
     "output_type": "execute_result"
    }
   ],
   "source": [
    "images.view(batch_size, -1).size()"
   ]
  },
  {
   "cell_type": "markdown",
   "metadata": {},
   "source": [
    "### Linear model in Pytorch.\n",
    "\n",
    "Note than in Keras (Sequential) in first layer we use Dense(number_hidden, input_shape)\n",
    "    \n",
    "In Pytorch the order is flipped Linear(input_shape, number_hidden)"
   ]
  },
  {
   "cell_type": "code",
   "execution_count": 47,
   "metadata": {},
   "outputs": [],
   "source": [
    "class MLPNet(nn.Module):\n",
    "    def __init__(self, num_classes=num_classes):\n",
    "        super(MLPNet, self).__init__()\n",
    "        self.fc1= nn.Linear(image_h*image_w, 500)\n",
    "        self.fc1_drop = nn.Dropout()\n",
    "        self.fc2 = nn.Linear(500, 256)\n",
    "        self.fc3 = nn.Linear(256, 10)\n",
    "        \n",
    "    def forward(self, x):\n",
    "        #we start with input of this shape\n",
    "        #x.shape: torch.Size([100, 1, 28, 28])\n",
    "        x = x.view(-1, image_h*image_w)\n",
    "        #and flatten to this\n",
    "        #x.shape: torch.Size([100, 784])\n",
    "        x = F.relu(self.fc1(x))\n",
    "        x = F.dropout(x,p=0.1, training=self.training)\n",
    "        x = F.relu(self.fc2(x))\n",
    "        y_pred = self.fc3(x)\n",
    "        return y_pred"
   ]
  },
  {
   "cell_type": "code",
   "execution_count": 48,
   "metadata": {},
   "outputs": [],
   "source": [
    "model = MLPNet()\n"
   ]
  },
  {
   "cell_type": "code",
   "execution_count": 49,
   "metadata": {},
   "outputs": [],
   "source": [
    "if is_cuda:\n",
    "    model = model.to(device)"
   ]
  },
  {
   "cell_type": "code",
   "execution_count": 50,
   "metadata": {},
   "outputs": [],
   "source": [
    "optimizer = optim.SGD(model.parameters(), lr=learning_rate, momentum=0.9)"
   ]
  },
  {
   "cell_type": "markdown",
   "metadata": {},
   "source": [
    "We can use CrossEntropyLoss or break down into nll_loss of log_softmax see https://pytorch.org/docs/master/_modules/torch/nn/functional.html#cross_entropy"
   ]
  },
  {
   "cell_type": "code",
   "execution_count": 51,
   "metadata": {},
   "outputs": [],
   "source": [
    "criterion = nn.CrossEntropyLoss()\n"
   ]
  },
  {
   "cell_type": "markdown",
   "metadata": {},
   "source": [
    "### Train"
   ]
  },
  {
   "cell_type": "code",
   "execution_count": 52,
   "metadata": {},
   "outputs": [],
   "source": [
    "def fit(epoch, model, data_loader, phase='train', volatile=False):\n",
    "    if phase == 'train':\n",
    "        model.train()\n",
    "    if phase == 'val':\n",
    "        #just sets evaluation mode - doesnt actually 'evaluate' anything\n",
    "        model.eval()\n",
    "        volatile=True\n",
    "    running_loss = 0.0\n",
    "    running_correct = 0\n",
    "    ave_loss = 0\n",
    "    for batch_idx, (x, target) in enumerate(data_loader):\n",
    "        if batch_idx==0:\n",
    "            print(f'x.shape: {x.shape}, target.shape: {target.shape}')\n",
    "        if is_cuda:\n",
    "            x, target = x.to(device), target.to(device)\n",
    "        x, target = Variable(x, volatile), Variable(target)\n",
    "        if phase == 'training':\n",
    "            #as backward() accumulates gradients, we  zero them at the start of a new minibatch. \n",
    "            optimizer.zero_grad()\n",
    "        output = model(x)\n",
    "        loss = criterion(output, target)\n",
    "        ave_loss = ave_loss * 0.9 + loss.item() * 0.1\n",
    "        running_loss += loss.item()\n",
    "        preds = output.data.max(dim=1, keepdim=True)[1]\n",
    "        running_correct += preds.eq(target.data.view_as(preds)).cpu().sum()\n",
    "        if phase == 'train':\n",
    "            loss.backward()\n",
    "            optimizer.step()\n",
    "        if (batch_idx+1)%100 == 0 or (batch_idx+1)==len(data_loader):\n",
    "            print(f'epoch: {epoch}, batch: {batch_idx}, av train loss: {ave_loss}, running loss: {running_loss}, loss: {loss.item()}')\n",
    "            \n",
    "    loss = float(running_loss/len(data_loader.dataset))\n",
    "    accuracy = float(100. * running_correct/len(data_loader.dataset))\n",
    "    \n",
    "    print(f'{phase} loss is {loss:{5}.{2}} and {phase} accuracy is {running_correct}/{len(data_loader.dataset)}{accuracy:{10}.{4}}')\n",
    "    return loss,accuracy\n",
    "        "
   ]
  },
  {
   "cell_type": "code",
   "execution_count": 53,
   "metadata": {},
   "outputs": [
    {
     "name": "stdout",
     "output_type": "stream",
     "text": [
      "x.shape: torch.Size([100, 1, 28, 28]), target.shape: torch.Size([100])\n",
      "epoch: 0, batch: 99, av train loss: 2.3037566286783253, running loss: 230.26728129386902, loss: 2.3059628009796143\n",
      "epoch: 0, batch: 199, av train loss: 2.303309595380365, running loss: 460.5058259963989, loss: 2.3075780868530273\n",
      "epoch: 0, batch: 299, av train loss: 2.302288824028746, running loss: 690.6635658740997, loss: 2.308011770248413\n",
      "epoch: 0, batch: 399, av train loss: 2.2999595998300806, running loss: 920.7198882102966, loss: 2.2985119819641113\n",
      "epoch: 0, batch: 499, av train loss: 2.29905725466137, running loss: 1150.8235182762146, loss: 2.295510768890381\n",
      "epoch: 0, batch: 599, av train loss: 2.302289562851153, running loss: 1381.0180864334106, loss: 2.2988154888153076\n",
      "training loss is 0.023 and training accuracy is 5972/60000       9.0\n",
      "x.shape: torch.Size([100, 1, 28, 28]), target.shape: torch.Size([100])\n",
      "epoch: 0, batch: 99, av train loss: 2.299040314837196, running loss: 230.14632606506348, loss: 2.2980763912200928\n",
      "validation loss is 0.023 and validation accuracy is 996/10000       9.0\n",
      "x.shape: torch.Size([100, 1, 28, 28]), target.shape: torch.Size([100])\n",
      "epoch: 1, batch: 99, av train loss: 2.302912810319254, running loss: 230.22449851036072, loss: 2.306182861328125\n",
      "epoch: 1, batch: 199, av train loss: 2.3020136153000768, running loss: 460.4368245601654, loss: 2.3072125911712646\n",
      "epoch: 1, batch: 299, av train loss: 2.301758159475275, running loss: 690.5517299175262, loss: 2.2994768619537354\n",
      "epoch: 1, batch: 399, av train loss: 2.3015855728327748, running loss: 920.6719698905945, loss: 2.2983593940734863\n",
      "epoch: 1, batch: 499, av train loss: 2.3017118843195745, running loss: 1150.8907606601715, loss: 2.303088426589966\n",
      "epoch: 1, batch: 599, av train loss: 2.301567975578835, running loss: 1381.028877735138, loss: 2.303809404373169\n",
      "training loss is 0.023 and training accuracy is 6007/60000      10.0\n",
      "x.shape: torch.Size([100, 1, 28, 28]), target.shape: torch.Size([100])\n",
      "epoch: 1, batch: 99, av train loss: 2.2990523169117063, running loss: 230.13796591758728, loss: 2.302767753601074\n",
      "validation loss is 0.023 and validation accuracy is 1005/10000      10.0\n",
      "x.shape: torch.Size([100, 1, 28, 28]), target.shape: torch.Size([100])\n",
      "epoch: 2, batch: 99, av train loss: 2.3016778943869194, running loss: 230.16661667823792, loss: 2.2943460941314697\n",
      "epoch: 2, batch: 199, av train loss: 2.3027551697959345, running loss: 460.3114016056061, loss: 2.3066744804382324\n",
      "epoch: 2, batch: 299, av train loss: 2.3004538441114857, running loss: 690.4416604042053, loss: 2.292750358581543\n",
      "epoch: 2, batch: 399, av train loss: 2.301475967743812, running loss: 920.6431803703308, loss: 2.3030123710632324\n",
      "epoch: 2, batch: 499, av train loss: 2.301619627828691, running loss: 1150.7914040088654, loss: 2.302906036376953\n",
      "epoch: 2, batch: 599, av train loss: 2.3010430019086408, running loss: 1380.9626307487488, loss: 2.304680824279785\n",
      "training loss is 0.023 and training accuracy is 6043/60000      10.0\n",
      "x.shape: torch.Size([100, 1, 28, 28]), target.shape: torch.Size([100])\n",
      "epoch: 2, batch: 99, av train loss: 2.299629196963428, running loss: 230.1495304107666, loss: 2.3019165992736816\n",
      "validation loss is 0.023 and validation accuracy is 1004/10000      10.0\n",
      "x.shape: torch.Size([100, 1, 28, 28]), target.shape: torch.Size([100])\n",
      "epoch: 3, batch: 99, av train loss: 2.302563856288007, running loss: 230.22405362129211, loss: 2.3036746978759766\n",
      "epoch: 3, batch: 199, av train loss: 2.300917793311073, running loss: 460.36515736579895, loss: 2.301051616668701\n",
      "epoch: 3, batch: 299, av train loss: 2.3000115376755814, running loss: 690.5648066997528, loss: 2.293207883834839\n",
      "epoch: 3, batch: 399, av train loss: 2.302232333971725, running loss: 920.7718453407288, loss: 2.293473243713379\n",
      "epoch: 3, batch: 499, av train loss: 2.300103368440401, running loss: 1150.8658254146576, loss: 2.3058078289031982\n",
      "epoch: 3, batch: 599, av train loss: 2.30107818149977, running loss: 1380.9873373508453, loss: 2.298949718475342\n",
      "training loss is 0.023 and training accuracy is 5973/60000       9.0\n",
      "x.shape: torch.Size([100, 1, 28, 28]), target.shape: torch.Size([100])\n",
      "epoch: 3, batch: 99, av train loss: 2.299542992682123, running loss: 230.16011309623718, loss: 2.2989940643310547\n",
      "validation loss is 0.023 and validation accuracy is 1006/10000      10.0\n",
      "x.shape: torch.Size([100, 1, 28, 28]), target.shape: torch.Size([100])\n",
      "epoch: 4, batch: 99, av train loss: 2.3012893657139144, running loss: 230.13011240959167, loss: 2.2993099689483643\n",
      "epoch: 4, batch: 199, av train loss: 2.301394582655291, running loss: 460.3030490875244, loss: 2.308234214782715\n",
      "epoch: 4, batch: 299, av train loss: 2.3027186279531615, running loss: 690.4043111801147, loss: 2.3106541633605957\n",
      "epoch: 4, batch: 399, av train loss: 2.3017740154696797, running loss: 920.5421438217163, loss: 2.2984845638275146\n",
      "epoch: 4, batch: 499, av train loss: 2.3041040652533384, running loss: 1150.7796387672424, loss: 2.30485463142395\n",
      "epoch: 4, batch: 599, av train loss: 2.3011244676370146, running loss: 1380.9795775413513, loss: 2.291680097579956\n",
      "training loss is 0.023 and training accuracy is 6026/60000      10.0\n",
      "x.shape: torch.Size([100, 1, 28, 28]), target.shape: torch.Size([100])\n",
      "epoch: 4, batch: 99, av train loss: 2.2989152271866207, running loss: 230.11451864242554, loss: 2.2992053031921387\n",
      "validation loss is 0.023 and validation accuracy is 1018/10000      10.0\n"
     ]
    }
   ],
   "source": [
    "train_losses , train_accuracy = [],[]\n",
    "val_losses , val_accuracy = [],[]\n",
    "for epoch in range(num_epochs):\n",
    "    epoch_loss, epoch_accuracy = fit(epoch,model,train_loader,phase='training')\n",
    "    val_epoch_loss , val_epoch_accuracy = fit(epoch,model,test_loader,phase='validation')\n",
    "    train_losses.append(epoch_loss)\n",
    "    train_accuracy.append(epoch_accuracy)\n",
    "    val_losses.append(val_epoch_loss)\n",
    "    val_accuracy.append(val_epoch_accuracy)"
   ]
  },
  {
   "cell_type": "code",
   "execution_count": 64,
   "metadata": {},
   "outputs": [
    {
     "data": {
      "text/plain": [
       "<matplotlib.legend.Legend at 0x7f573f037048>"
      ]
     },
     "execution_count": 64,
     "metadata": {},
     "output_type": "execute_result"
    },
    {
     "data": {
      "image/png": "[encoded data removed]",
      "text/plain": [
       "<Figure size 432x288 with 1 Axes>"
      ]
     },
     "metadata": {
      "needs_background": "light"
     },
     "output_type": "display_data"
    }
   ],
   "source": [
    "plt.plot(range(1,len(train_losses)+1),train_losses,'bo',label = 'training loss')\n",
    "plt.plot(range(1,len(val_losses)+1),val_losses,'r',label = 'validation loss')\n",
    "plt.legend()"
   ]
  },
  {
   "cell_type": "code",
   "execution_count": 55,
   "metadata": {},
   "outputs": [
    {
     "data": {
      "text/plain": [
       "0.02301696810722351"
      ]
     },
     "execution_count": 55,
     "metadata": {},
     "output_type": "execute_result"
    }
   ],
   "source": [
    "train_losses[0]"
   ]
  },
  {
   "cell_type": "code",
   "execution_count": null,
   "metadata": {},
   "outputs": [],
   "source": []
  }
 ],
 "metadata": {
  "kernelspec": {
   "display_name": "Python",
   "language": "python",
   "name": "python3"
  },
  "language_info": {
   "codemirror_mode": {
    "name": "ipython",
    "version": 3
   },
   "file_extension": ".py",
   "mimetype": "text/x-python",
   "name": "python",
   "nbconvert_exporter": "python",
   "pygments_lexer": "ipython3",
   "version": "3.7.2"
  },
  "varInspector": {
   "cols": {
    "lenName": 16,
    "lenType": 16,
    "lenVar": 40
   },
   "kernels_config": {
    "python": {
     "delete_cmd_postfix": "",
     "delete_cmd_prefix": "del ",
     "library": "var_list.py",
     "varRefreshCmd": "print(var_dic_list())"
    },
    "r": {
     "delete_cmd_postfix": ") ",
     "delete_cmd_prefix": "rm(",
     "library": "var_list.r",
     "varRefreshCmd": "cat(var_dic_list()) "
    }
   },
   "types_to_exclude": [
    "module",
    "function",
    "builtin_function_or_method",
    "instance",
    "_Feature"
   ],
   "window_display": false
  }
 },
 "nbformat": 4,
 "nbformat_minor": 2
}
