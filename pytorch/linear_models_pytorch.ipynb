{
 "cells": [
  {
   "cell_type": "markdown",
   "metadata": {},
   "source": [
    "### MLP's in Pytorch"
   ]
  },
  {
   "cell_type": "code",
   "execution_count": 46,
   "metadata": {
    "ExecuteTime": {
     "end_time": "2019-02-08T18:09:14.170942Z",
     "start_time": "2019-02-08T18:09:14.163264Z"
    }
   },
   "outputs": [],
   "source": [
    "import time\n",
    "import numpy as np\n",
    "from glob import glob\n",
    "from os import listdir, walk\n",
    "from os.path import isfile, join\n",
    "import matplotlib.pyplot as plt\n",
    "\n",
    "import torch\n",
    "import torch.nn as nn\n",
    "from torch.autograd import Variable\n",
    "import torch.nn.functional as F\n",
    "import torchvision\n",
    "import torchvision.transforms as transforms\n",
    "from torchvision import datasets\n",
    "import torch.optim as optim"
   ]
  },
  {
   "cell_type": "code",
   "execution_count": 12,
   "metadata": {
    "ExecuteTime": {
     "end_time": "2019-02-08T17:11:32.844641Z",
     "start_time": "2019-02-08T17:11:32.840220Z"
    }
   },
   "outputs": [],
   "source": [
    "%matplotlib inline"
   ]
  },
  {
   "cell_type": "code",
   "execution_count": 13,
   "metadata": {
    "ExecuteTime": {
     "end_time": "2019-02-08T17:11:33.429140Z",
     "start_time": "2019-02-08T17:11:33.424568Z"
    }
   },
   "outputs": [
    {
     "data": {
      "text/plain": [
       "True"
      ]
     },
     "execution_count": 13,
     "metadata": {},
     "output_type": "execute_result"
    }
   ],
   "source": [
    "is_cuda=False\n",
    "if torch.cuda.is_available():\n",
    "    is_cuda = True\n",
    "is_cuda"
   ]
  },
  {
   "cell_type": "code",
   "execution_count": 14,
   "metadata": {
    "ExecuteTime": {
     "end_time": "2019-02-08T17:11:34.267199Z",
     "start_time": "2019-02-08T17:11:34.262894Z"
    }
   },
   "outputs": [
    {
     "data": {
      "text/plain": [
       "device(type='cuda', index=0)"
      ]
     },
     "execution_count": 14,
     "metadata": {},
     "output_type": "execute_result"
    }
   ],
   "source": [
    "device = torch.device('cuda:0' if torch.cuda.is_available() else 'cpu')\n",
    "device"
   ]
  },
  {
   "cell_type": "code",
   "execution_count": 35,
   "metadata": {
    "ExecuteTime": {
     "end_time": "2019-02-08T18:08:42.629813Z",
     "start_time": "2019-02-08T18:08:42.626664Z"
    }
   },
   "outputs": [],
   "source": [
    "transfms = transforms.Compose([transforms.ToTensor(), transforms.Normalize((0.5,), (1.0,))])"
   ]
  },
  {
   "cell_type": "code",
   "execution_count": 36,
   "metadata": {
    "ExecuteTime": {
     "end_time": "2019-02-08T18:08:43.425681Z",
     "start_time": "2019-02-08T18:08:43.396123Z"
    }
   },
   "outputs": [],
   "source": [
    "train_dataset = datasets.MNIST('../data/',train=True, transform=transfms, download=True)\n",
    "test_dataset = datasets.MNIST('../data/',train=False, transform=transfms, download=True)\n"
   ]
  },
  {
   "cell_type": "code",
   "execution_count": 37,
   "metadata": {
    "ExecuteTime": {
     "end_time": "2019-02-08T18:08:44.814423Z",
     "start_time": "2019-02-08T18:08:44.810644Z"
    }
   },
   "outputs": [],
   "source": [
    "# model parameters\n",
    "num_epochs = 5\n",
    "num_classes = 10\n",
    "batch_size = 100\n",
    "learning_rate = 0.01\n",
    "image_h = 28\n",
    "image_w = 28"
   ]
  },
  {
   "cell_type": "code",
   "execution_count": 38,
   "metadata": {
    "ExecuteTime": {
     "end_time": "2019-02-08T18:08:48.696107Z",
     "start_time": "2019-02-08T18:08:48.690580Z"
    }
   },
   "outputs": [],
   "source": [
    "# Data loader\n",
    "train_loader = torch.utils.data.DataLoader(dataset=train_dataset,\n",
    "                                           batch_size=batch_size, shuffle=True)\n",
    "\n",
    "test_loader = torch.utils.data.DataLoader(dataset=test_dataset,\n",
    "                                          batch_size=batch_size, shuffle=False)"
   ]
  },
  {
   "cell_type": "code",
   "execution_count": 39,
   "metadata": {
    "ExecuteTime": {
     "end_time": "2019-02-08T18:08:49.210314Z",
     "start_time": "2019-02-08T18:08:49.202311Z"
    }
   },
   "outputs": [],
   "source": [
    "# linear\n",
    "class MLPNet(nn.Module):\n",
    "    def __init__(self, num_classes=num_classes):\n",
    "        super(MLPNet, self).__init__()\n",
    "        self.fc1= nn.Linear(image_h*image_w, 500)\n",
    "        self.fc2 = nn.Linear(500, 256)\n",
    "        self.fc3 = nn.Linear(256, 10)\n",
    "        \n",
    "    def forward(self, x):\n",
    "        x = x.view(-1, image_h*image_w)\n",
    "        x = F.relu(self.fc1(x))\n",
    "        x = F.relu(self.fc2(x))\n",
    "        x = self.fc3(x)\n",
    "        return x"
   ]
  },
  {
   "cell_type": "code",
   "execution_count": 40,
   "metadata": {
    "ExecuteTime": {
     "end_time": "2019-02-08T18:08:50.761973Z",
     "start_time": "2019-02-08T18:08:50.754449Z"
    }
   },
   "outputs": [],
   "source": [
    "model = MLPNet()\n"
   ]
  },
  {
   "cell_type": "code",
   "execution_count": 41,
   "metadata": {
    "ExecuteTime": {
     "end_time": "2019-02-08T18:08:51.448811Z",
     "start_time": "2019-02-08T18:08:51.443289Z"
    }
   },
   "outputs": [],
   "source": [
    "if is_cuda:\n",
    "    model = model.to(device)"
   ]
  },
  {
   "cell_type": "code",
   "execution_count": 42,
   "metadata": {
    "ExecuteTime": {
     "end_time": "2019-02-08T18:08:51.996121Z",
     "start_time": "2019-02-08T18:08:51.991285Z"
    }
   },
   "outputs": [],
   "source": [
    "optimizer = optim.SGD(model.parameters(), lr=learning_rate, momentum=0.9)"
   ]
  },
  {
   "cell_type": "code",
   "execution_count": 57,
   "metadata": {
    "ExecuteTime": {
     "end_time": "2019-02-08T18:25:39.585371Z",
     "start_time": "2019-02-08T18:25:39.581556Z"
    }
   },
   "outputs": [],
   "source": [
    "criterion = nn.CrossEntropyLoss()\n"
   ]
  },
  {
   "cell_type": "markdown",
   "metadata": {},
   "source": [
    "### Train"
   ]
  },
  {
   "cell_type": "code",
   "execution_count": 52,
   "metadata": {
    "ExecuteTime": {
     "end_time": "2019-02-08T18:11:20.458946Z",
     "start_time": "2019-02-08T18:11:20.449699Z"
    }
   },
   "outputs": [],
   "source": [
    "def fit(epoch, model, data_loader, phase='train', volatile=False):\n",
    "    if phase == 'train':\n",
    "        model.train()\n",
    "    if phase == 'val':\n",
    "        #just sets evaluation mode - doesnt actually 'evaluate' anything\n",
    "        model.eval()\n",
    "        volatile=True\n",
    "    running_loss = 0.0\n",
    "    running_correct = 0\n",
    "    ave_loss = 0\n",
    "    for batch_idx, (x, target) in enumerate(data_loader):\n",
    "        if is_cuda:\n",
    "            x, target = x.to(device), target.to(device)\n",
    "        x, target = Variable(x, volatile), Variable(target)\n",
    "        if phase == 'training':\n",
    "            #as backward() accumulates gradients, we  zero them at the start of a new minibatch. \n",
    "            optimizer.zero_grad()\n",
    "        output = model(x)\n",
    "        loss = criterion(output, target)\n",
    "        ave_loss = ave_loss * 0.9 + loss.item() * 0.1\n",
    "        running_loss += loss.item()\n",
    "        preds = output.data.max(dim=1, keepdim=True)[1]\n",
    "        running_correct += preds.eq(target.data.view_as(preds)).cpu().sum()\n",
    "        if phase == 'train':\n",
    "            loss.backward()\n",
    "            optimizer.step()\n",
    "        if (batch_idx+1)%100 == 0 or (batch_idx+1)==len(data_loader):\n",
    "            print(f'epoch: {epoch}, batch: {batch_idx}, av train loss: {ave_loss}, running loss: {running_loss}')\n",
    "            \n",
    "    loss = float(running_loss/len(data_loader.dataset))\n",
    "    accuracy = float(100. * running_correct/len(data_loader.dataset))\n",
    "    \n",
    "    print(f'{phase} loss is {loss:{5}.{2}} and {phase} accuracy is {running_correct}/{len(data_loader.dataset)}{accuracy:{10}.{4}}')\n",
    "    return loss,accuracy\n",
    "        "
   ]
  },
  {
   "cell_type": "code",
   "execution_count": 53,
   "metadata": {
    "ExecuteTime": {
     "end_time": "2019-02-08T18:11:45.253160Z",
     "start_time": "2019-02-08T18:11:20.982383Z"
    }
   },
   "outputs": [
    {
     "name": "stdout",
     "output_type": "stream",
     "text": [
      "epoch: 0, batch: 99, av train loss: 2.306326131694163, running loss: 230.5118932723999\n",
      "epoch: 0, batch: 199, av train loss: 2.3052996009546427, running loss: 461.04135751724243\n",
      "epoch: 0, batch: 299, av train loss: 2.302629729484613, running loss: 691.5872256755829\n",
      "epoch: 0, batch: 399, av train loss: 2.3055428944213046, running loss: 922.1644637584686\n",
      "epoch: 0, batch: 499, av train loss: 2.305714152106776, running loss: 1152.6668717861176\n",
      "epoch: 0, batch: 599, av train loss: 2.3042987052748662, running loss: 1383.190022468567\n",
      "training loss is 0.023 and training accuracy is 5137/60000       8.0\n",
      "epoch: 0, batch: 99, av train loss: 2.3054503432933875, running loss: 230.530930519104\n",
      "validation loss is 0.023 and validation accuracy is 868/10000       8.0\n",
      "epoch: 1, batch: 99, av train loss: 2.3042708353671513, running loss: 230.53728652000427\n",
      "epoch: 1, batch: 199, av train loss: 2.3044478046912884, running loss: 461.09615993499756\n",
      "epoch: 1, batch: 299, av train loss: 2.305852918771943, running loss: 691.6351702213287\n",
      "epoch: 1, batch: 399, av train loss: 2.305118140624941, running loss: 922.1466038227081\n",
      "epoch: 1, batch: 499, av train loss: 2.304318874916578, running loss: 1152.6704318523407\n",
      "epoch: 1, batch: 599, av train loss: 2.30477000071212, running loss: 1383.190013408661\n",
      "training loss is 0.023 and training accuracy is 5137/60000       8.0\n",
      "epoch: 1, batch: 99, av train loss: 2.3054503432933875, running loss: 230.530930519104\n",
      "validation loss is 0.023 and validation accuracy is 868/10000       8.0\n",
      "epoch: 2, batch: 99, av train loss: 2.3050035546539704, running loss: 230.51614332199097\n",
      "epoch: 2, batch: 199, av train loss: 2.3050025714387687, running loss: 461.06093406677246\n",
      "epoch: 2, batch: 299, av train loss: 2.3049850412262565, running loss: 691.5867943763733\n",
      "epoch: 2, batch: 399, av train loss: 2.305225654829313, running loss: 922.1234171390533\n",
      "epoch: 2, batch: 499, av train loss: 2.3057883934930503, running loss: 1152.6481812000275\n",
      "epoch: 2, batch: 599, av train loss: 2.3057198297974963, running loss: 1383.1900141239166\n",
      "training loss is 0.023 and training accuracy is 5137/60000       8.0\n",
      "epoch: 2, batch: 99, av train loss: 2.3054503432933875, running loss: 230.530930519104\n",
      "validation loss is 0.023 and validation accuracy is 868/10000       8.0\n",
      "epoch: 3, batch: 99, av train loss: 2.3063478832974127, running loss: 230.47632598876953\n",
      "epoch: 3, batch: 199, av train loss: 2.3044821780199394, running loss: 460.93564081192017\n",
      "epoch: 3, batch: 299, av train loss: 2.3059103861980397, running loss: 691.4231207370758\n",
      "epoch: 3, batch: 399, av train loss: 2.3051885024092678, running loss: 922.0639157295227\n",
      "epoch: 3, batch: 499, av train loss: 2.3063443557912233, running loss: 1152.6120119094849\n",
      "epoch: 3, batch: 599, av train loss: 2.305552455230285, running loss: 1383.1900153160095\n",
      "training loss is 0.023 and training accuracy is 5137/60000       8.0\n",
      "epoch: 3, batch: 99, av train loss: 2.3054503432933875, running loss: 230.530930519104\n",
      "validation loss is 0.023 and validation accuracy is 868/10000       8.0\n",
      "epoch: 4, batch: 99, av train loss: 2.3061207068512277, running loss: 230.52466869354248\n",
      "epoch: 4, batch: 199, av train loss: 2.3052445731144946, running loss: 461.05794072151184\n",
      "epoch: 4, batch: 299, av train loss: 2.305172285468203, running loss: 691.634051322937\n",
      "epoch: 4, batch: 399, av train loss: 2.3058036006973857, running loss: 922.192875623703\n",
      "epoch: 4, batch: 499, av train loss: 2.3062037587403403, running loss: 1152.7433273792267\n",
      "epoch: 4, batch: 599, av train loss: 2.305966431932894, running loss: 1383.1900205612183\n",
      "training loss is 0.023 and training accuracy is 5137/60000       8.0\n",
      "epoch: 4, batch: 99, av train loss: 2.3054503432933875, running loss: 230.530930519104\n",
      "validation loss is 0.023 and validation accuracy is 868/10000       8.0\n"
     ]
    }
   ],
   "source": [
    "train_losses , train_accuracy = [],[]\n",
    "val_losses , val_accuracy = [],[]\n",
    "for epoch in range(num_epochs):\n",
    "    epoch_loss, epoch_accuracy = fit(epoch,model,train_loader,phase='training')\n",
    "    val_epoch_loss , val_epoch_accuracy = fit(epoch,model,test_loader,phase='validation')\n",
    "    train_losses.append(epoch_loss)\n",
    "    train_accuracy.append(epoch_accuracy)\n",
    "    val_losses.append(val_epoch_loss)\n",
    "    val_accuracy.append(val_epoch_accuracy)"
   ]
  },
  {
   "cell_type": "code",
   "execution_count": 55,
   "metadata": {
    "ExecuteTime": {
     "end_time": "2019-02-08T18:19:08.570028Z",
     "start_time": "2019-02-08T18:19:08.447390Z"
    }
   },
   "outputs": [
    {
     "data": {
      "text/plain": [
       "<matplotlib.legend.Legend at 0x7f0b3abba588>"
      ]
     },
     "execution_count": 55,
     "metadata": {},
     "output_type": "execute_result"
    },
    {
     "data": {
      "image/png": "[encoded data removed]",
      "text/plain": [
       "<Figure size 432x288 with 1 Axes>"
      ]
     },
     "metadata": {
      "needs_background": "light"
     },
     "output_type": "display_data"
    }
   ],
   "source": [
    "plt.plot(range(1,len(train_losses)+1),train_losses,'bo',label = 'training loss')\n",
    "plt.plot(range(1,len(val_losses)+1),val_losses,'r',label = 'validation loss')\n",
    "plt.legend()"
   ]
  },
  {
   "cell_type": "code",
   "execution_count": null,
   "metadata": {},
   "outputs": [],
   "source": []
  }
 ],
 "metadata": {
  "kernelspec": {
   "display_name": "Python",
   "language": "python",
   "name": "python3"
  },
  "language_info": {
   "codemirror_mode": {
    "name": "ipython",
    "version": 3
   },
   "file_extension": ".py",
   "mimetype": "text/x-python",
   "name": "python",
   "nbconvert_exporter": "python",
   "pygments_lexer": "ipython3",
   "version": "3.7.1"
  },
  "varInspector": {
   "cols": {
    "lenName": 16.0,
    "lenType": 16.0,
    "lenVar": 40.0
   },
   "kernels_config": {
    "python": {
     "delete_cmd_postfix": "",
     "delete_cmd_prefix": "del ",
     "library": "var_list.py",
     "varRefreshCmd": "print(var_dic_list())"
    },
    "r": {
     "delete_cmd_postfix": ") ",
     "delete_cmd_prefix": "rm(",
     "library": "var_list.r",
     "varRefreshCmd": "cat(var_dic_list()) "
    }
   },
   "types_to_exclude": [
    "module",
    "function",
    "builtin_function_or_method",
    "instance",
    "_Feature"
   ],
   "window_display": false
  }
 },
 "nbformat": 4,
 "nbformat_minor": 2
}
