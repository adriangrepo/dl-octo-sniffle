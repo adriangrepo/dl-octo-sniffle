{
 "cells": [
  {
   "cell_type": "markdown",
   "metadata": {},
   "source": [
    "### MLP's in Tensorflow and Pytorch"
   ]
  },
  {
   "cell_type": "code",
   "execution_count": 2,
   "metadata": {
    "ExecuteTime": {
     "end_time": "2019-02-04T16:42:55.154603Z",
     "start_time": "2019-02-04T16:42:54.263042Z"
    }
   },
   "outputs": [
    {
     "name": "stderr",
     "output_type": "stream",
     "text": [
      "Using TensorFlow backend.\n"
     ]
    }
   ],
   "source": [
    "import numpy as np\n",
    "from keras.models import Sequential\n",
    "from keras.layers import Dense, Activation, Dropout\n",
    "from keras.utils import to_categorical, plot_model\n",
    "from keras.datasets import mnist"
   ]
  },
  {
   "cell_type": "code",
   "execution_count": 3,
   "metadata": {
    "ExecuteTime": {
     "end_time": "2019-02-04T16:42:55.371662Z",
     "start_time": "2019-02-04T16:42:55.156195Z"
    }
   },
   "outputs": [],
   "source": [
    "# load mnist dataset\n",
    "(x_train, y_train), (x_test, y_test) = mnist.load_data()"
   ]
  },
  {
   "cell_type": "code",
   "execution_count": 4,
   "metadata": {
    "ExecuteTime": {
     "end_time": "2019-02-04T16:42:55.380761Z",
     "start_time": "2019-02-04T16:42:55.373032Z"
    }
   },
   "outputs": [
    {
     "data": {
      "text/plain": [
       "10"
      ]
     },
     "execution_count": 4,
     "metadata": {},
     "output_type": "execute_result"
    }
   ],
   "source": [
    "n_labels = len(np.unique(y_train))\n",
    "n_labels"
   ]
  },
  {
   "cell_type": "code",
   "execution_count": 5,
   "metadata": {
    "ExecuteTime": {
     "end_time": "2019-02-04T16:42:55.386625Z",
     "start_time": "2019-02-04T16:42:55.382223Z"
    }
   },
   "outputs": [
    {
     "data": {
      "text/plain": [
       "((60000,), 5)"
      ]
     },
     "execution_count": 5,
     "metadata": {},
     "output_type": "execute_result"
    }
   ],
   "source": [
    "y_train.shape, y_train[0]"
   ]
  },
  {
   "cell_type": "code",
   "execution_count": 6,
   "metadata": {
    "ExecuteTime": {
     "end_time": "2019-02-04T16:42:55.398547Z",
     "start_time": "2019-02-04T16:42:55.388109Z"
    }
   },
   "outputs": [],
   "source": [
    "# convert to one-hot vector\n",
    "y_train = to_categorical(y_train)\n",
    "y_test = to_categorical(y_test)"
   ]
  },
  {
   "cell_type": "code",
   "execution_count": 7,
   "metadata": {
    "ExecuteTime": {
     "end_time": "2019-02-04T16:42:55.410340Z",
     "start_time": "2019-02-04T16:42:55.399661Z"
    }
   },
   "outputs": [
    {
     "data": {
      "text/plain": [
       "array([0., 0., 0., 0., 0., 1., 0., 0., 0., 0.], dtype=float32)"
      ]
     },
     "execution_count": 7,
     "metadata": {},
     "output_type": "execute_result"
    }
   ],
   "source": [
    "y_train[0]"
   ]
  },
  {
   "cell_type": "code",
   "execution_count": 8,
   "metadata": {
    "ExecuteTime": {
     "end_time": "2019-02-04T16:42:55.425743Z",
     "start_time": "2019-02-04T16:42:55.411523Z"
    }
   },
   "outputs": [
    {
     "data": {
      "text/plain": [
       "(60000, 28, 28)"
      ]
     },
     "execution_count": 8,
     "metadata": {},
     "output_type": "execute_result"
    }
   ],
   "source": [
    "x_train.shape"
   ]
  },
  {
   "cell_type": "code",
   "execution_count": 9,
   "metadata": {
    "ExecuteTime": {
     "end_time": "2019-02-04T16:42:55.436217Z",
     "start_time": "2019-02-04T16:42:55.426874Z"
    }
   },
   "outputs": [],
   "source": [
    "image_size_1 = x_train.shape[1]\n",
    "image_size_2 = x_train.shape[2]\n",
    "input_size = image_size_1 * image_size_2"
   ]
  },
  {
   "cell_type": "code",
   "execution_count": 10,
   "metadata": {
    "ExecuteTime": {
     "end_time": "2019-02-04T16:42:55.588916Z",
     "start_time": "2019-02-04T16:42:55.437169Z"
    }
   },
   "outputs": [],
   "source": [
    "# resize \n",
    "x_train = np.reshape(x_train, [-1, input_size])\n",
    "x_test = np.reshape(x_test, [-1, input_size])\n",
    "# limit between 0 & 1\n",
    "x_train = x_train.astype('float32') / 255\n",
    "x_test = x_test.astype('float32') / 255"
   ]
  },
  {
   "cell_type": "code",
   "execution_count": 11,
   "metadata": {
    "ExecuteTime": {
     "end_time": "2019-02-04T16:42:55.592472Z",
     "start_time": "2019-02-04T16:42:55.590329Z"
    }
   },
   "outputs": [],
   "source": [
    "# network parameters\n",
    "batch_size = 128\n",
    "hidden_units = 256\n",
    "dropout = 0.45"
   ]
  },
  {
   "cell_type": "markdown",
   "metadata": {},
   "source": [
    "### Model"
   ]
  },
  {
   "cell_type": "code",
   "execution_count": 13,
   "metadata": {
    "ExecuteTime": {
     "end_time": "2019-02-04T16:44:44.010445Z",
     "start_time": "2019-02-04T16:44:43.948295Z"
    }
   },
   "outputs": [
    {
     "name": "stdout",
     "output_type": "stream",
     "text": [
      "_________________________________________________________________\n",
      "Layer (type)                 Output Shape              Param #   \n",
      "=================================================================\n",
      "dense_4 (Dense)              (None, 256)               200960    \n",
      "_________________________________________________________________\n",
      "activation_4 (Activation)    (None, 256)               0         \n",
      "_________________________________________________________________\n",
      "dropout_3 (Dropout)          (None, 256)               0         \n",
      "_________________________________________________________________\n",
      "dense_5 (Dense)              (None, 256)               65792     \n",
      "_________________________________________________________________\n",
      "activation_5 (Activation)    (None, 256)               0         \n",
      "_________________________________________________________________\n",
      "dropout_4 (Dropout)          (None, 256)               0         \n",
      "_________________________________________________________________\n",
      "dense_6 (Dense)              (None, 10)                2570      \n",
      "_________________________________________________________________\n",
      "activation_6 (Activation)    (None, 10)                0         \n",
      "=================================================================\n",
      "Total params: 269,322\n",
      "Trainable params: 269,322\n",
      "Non-trainable params: 0\n",
      "_________________________________________________________________\n"
     ]
    }
   ],
   "source": [
    "# 3-layer MLP \n",
    "model = Sequential()\n",
    "model.add(Dense(hidden_units, input_dim=input_size))\n",
    "model.add(Activation('relu'))\n",
    "model.add(Dropout(dropout))\n",
    "\n",
    "model.add(Dense(hidden_units))\n",
    "model.add(Activation('relu'))\n",
    "model.add(Dropout(dropout))\n",
    "\n",
    "model.add(Dense(n_labels))\n",
    "model.add(Activation('softmax'))\n",
    "model.summary()\n",
    "#plot_model(model, to_file='mnist_mlp.png', show_shapes=True)"
   ]
  },
  {
   "cell_type": "code",
   "execution_count": 14,
   "metadata": {
    "ExecuteTime": {
     "end_time": "2019-02-04T16:44:47.302084Z",
     "start_time": "2019-02-04T16:44:47.271097Z"
    }
   },
   "outputs": [],
   "source": [
    "model.compile(loss='categorical_crossentropy',\n",
    "              optimizer='adam',\n",
    "              metrics=['accuracy'])"
   ]
  },
  {
   "cell_type": "code",
   "execution_count": 15,
   "metadata": {
    "ExecuteTime": {
     "end_time": "2019-02-04T16:45:19.160561Z",
     "start_time": "2019-02-04T16:44:54.008488Z"
    }
   },
   "outputs": [
    {
     "name": "stdout",
     "output_type": "stream",
     "text": [
      "Epoch 1/20\n",
      "60000/60000 [==============================] - 1s 24us/step - loss: 0.4222 - acc: 0.8702\n",
      "Epoch 2/20\n",
      "60000/60000 [==============================] - 1s 21us/step - loss: 0.1922 - acc: 0.9427\n",
      "Epoch 3/20\n",
      "60000/60000 [==============================] - 1s 21us/step - loss: 0.1520 - acc: 0.9539\n",
      "Epoch 4/20\n",
      "60000/60000 [==============================] - 1s 21us/step - loss: 0.1290 - acc: 0.9607\n",
      "Epoch 5/20\n",
      "60000/60000 [==============================] - 1s 20us/step - loss: 0.1098 - acc: 0.9667\n",
      "Epoch 6/20\n",
      "60000/60000 [==============================] - 1s 20us/step - loss: 0.0996 - acc: 0.9695\n",
      "Epoch 7/20\n",
      "60000/60000 [==============================] - 1s 20us/step - loss: 0.0945 - acc: 0.9704\n",
      "Epoch 8/20\n",
      "60000/60000 [==============================] - 1s 20us/step - loss: 0.0862 - acc: 0.9728\n",
      "Epoch 9/20\n",
      "60000/60000 [==============================] - 1s 20us/step - loss: 0.0805 - acc: 0.9744\n",
      "Epoch 10/20\n",
      "60000/60000 [==============================] - 1s 20us/step - loss: 0.0782 - acc: 0.9757\n",
      "Epoch 11/20\n",
      "60000/60000 [==============================] - 1s 20us/step - loss: 0.0719 - acc: 0.9774\n",
      "Epoch 12/20\n",
      "60000/60000 [==============================] - 1s 21us/step - loss: 0.0679 - acc: 0.9784\n",
      "Epoch 13/20\n",
      "60000/60000 [==============================] - 1s 21us/step - loss: 0.0675 - acc: 0.9782\n",
      "Epoch 14/20\n",
      "60000/60000 [==============================] - 1s 21us/step - loss: 0.0656 - acc: 0.9798\n",
      "Epoch 15/20\n",
      "60000/60000 [==============================] - 1s 20us/step - loss: 0.0626 - acc: 0.9802\n",
      "Epoch 16/20\n",
      "60000/60000 [==============================] - 1s 20us/step - loss: 0.0608 - acc: 0.9808\n",
      "Epoch 17/20\n",
      "60000/60000 [==============================] - 1s 20us/step - loss: 0.0565 - acc: 0.9816\n",
      "Epoch 18/20\n",
      "60000/60000 [==============================] - 1s 20us/step - loss: 0.0568 - acc: 0.9820\n",
      "Epoch 19/20\n",
      "60000/60000 [==============================] - 1s 21us/step - loss: 0.0522 - acc: 0.9834\n",
      "Epoch 20/20\n",
      "60000/60000 [==============================] - 1s 21us/step - loss: 0.0522 - acc: 0.9832\n"
     ]
    },
    {
     "data": {
      "text/plain": [
       "<keras.callbacks.History at 0x7fa6475dc828>"
      ]
     },
     "execution_count": 15,
     "metadata": {},
     "output_type": "execute_result"
    }
   ],
   "source": [
    "model.fit(x_train, y_train, epochs=20, batch_size=batch_size)"
   ]
  },
  {
   "cell_type": "code",
   "execution_count": 17,
   "metadata": {
    "ExecuteTime": {
     "end_time": "2019-02-04T16:46:34.443736Z",
     "start_time": "2019-02-04T16:46:34.364379Z"
    }
   },
   "outputs": [
    {
     "name": "stdout",
     "output_type": "stream",
     "text": [
      "10000/10000 [==============================] - 0s 8us/step\n",
      "\n",
      "Accuracy: 98.3%\n"
     ]
    }
   ],
   "source": [
    "loss, acc = model.evaluate(x_test, y_test, batch_size=batch_size)\n",
    "print(\"\\nAccuracy: %.1f%%\" % (100.0 * acc))"
   ]
  },
  {
   "cell_type": "code",
   "execution_count": null,
   "metadata": {},
   "outputs": [],
   "source": [
    "### Pytorch"
   ]
  }
 ],
 "metadata": {
  "kernelspec": {
   "display_name": "Python 3.6",
   "language": "python",
   "name": "python3"
  },
  "language_info": {
   "codemirror_mode": {
    "name": "ipython",
    "version": 3
   },
   "file_extension": ".py",
   "mimetype": "text/x-python",
   "name": "python",
   "nbconvert_exporter": "python",
   "pygments_lexer": "ipython3",
   "version": "3.6.5"
  },
  "varInspector": {
   "cols": {
    "lenName": 16,
    "lenType": 16,
    "lenVar": 40
   },
   "kernels_config": {
    "python": {
     "delete_cmd_postfix": "",
     "delete_cmd_prefix": "del ",
     "library": "var_list.py",
     "varRefreshCmd": "print(var_dic_list())"
    },
    "r": {
     "delete_cmd_postfix": ") ",
     "delete_cmd_prefix": "rm(",
     "library": "var_list.r",
     "varRefreshCmd": "cat(var_dic_list()) "
    }
   },
   "types_to_exclude": [
    "module",
    "function",
    "builtin_function_or_method",
    "instance",
    "_Feature"
   ],
   "window_display": false
  }
 },
 "nbformat": 4,
 "nbformat_minor": 2
}
